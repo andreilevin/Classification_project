{
 "cells": [
  {
   "cell_type": "code",
   "execution_count": 15,
   "id": "88327b1d",
   "metadata": {},
   "outputs": [],
   "source": [
    "import pandas as pd\n",
    "import numpy as np\n",
    "\n",
    "# visualization imports\n",
    "import matplotlib.pyplot as plt\n",
    "import seaborn as sns\n",
    "plt.style.use('fivethirtyeight')\n",
    "%matplotlib inline\n",
    "np.set_printoptions(suppress=True)\n",
    "\n",
    "# modeling imports\n",
    "from sklearn.linear_model import LogisticRegression\n",
    "from sklearn.tree import DecisionTreeClassifier\n",
    "from sklearn.ensemble import RandomForestClassifier\n",
    "\n",
    "from sklearn.model_selection import train_test_split\n",
    "from sklearn.metrics import precision_score, recall_score, accuracy_score, roc_auc_score\n",
    "from sklearn.metrics import precision_recall_curve, f1_score, fbeta_score, roc_curve\n",
    "\n",
    "from sklearn.metrics import confusion_matrix\n",
    "from sklearn.preprocessing import StandardScaler\n",
    "\n",
    "from sklearn.model_selection import cross_val_score\n",
    "from sklearn.model_selection import GridSearchCV"
   ]
  },
  {
   "cell_type": "code",
   "execution_count": 111,
   "id": "949bee67",
   "metadata": {},
   "outputs": [
    {
     "data": {
      "text/html": [
       "<div>\n",
       "<style scoped>\n",
       "    .dataframe tbody tr th:only-of-type {\n",
       "        vertical-align: middle;\n",
       "    }\n",
       "\n",
       "    .dataframe tbody tr th {\n",
       "        vertical-align: top;\n",
       "    }\n",
       "\n",
       "    .dataframe thead th {\n",
       "        text-align: right;\n",
       "    }\n",
       "</style>\n",
       "<table border=\"1\" class=\"dataframe\">\n",
       "  <thead>\n",
       "    <tr style=\"text-align: right;\">\n",
       "      <th></th>\n",
       "      <th>Winning_Percentage</th>\n",
       "      <th>Points_Scored</th>\n",
       "    </tr>\n",
       "  </thead>\n",
       "  <tbody>\n",
       "    <tr>\n",
       "      <th>ARI</th>\n",
       "      <td>0.500</td>\n",
       "      <td>295</td>\n",
       "    </tr>\n",
       "    <tr>\n",
       "      <th>ATL</th>\n",
       "      <td>0.625</td>\n",
       "      <td>353</td>\n",
       "    </tr>\n",
       "    <tr>\n",
       "      <th>BAL</th>\n",
       "      <td>0.563</td>\n",
       "      <td>395</td>\n",
       "    </tr>\n",
       "    <tr>\n",
       "      <th>BUF</th>\n",
       "      <td>0.563</td>\n",
       "      <td>302</td>\n",
       "    </tr>\n",
       "    <tr>\n",
       "      <th>CAR</th>\n",
       "      <td>0.688</td>\n",
       "      <td>363</td>\n",
       "    </tr>\n",
       "    <tr>\n",
       "      <th>CHI</th>\n",
       "      <td>0.313</td>\n",
       "      <td>264</td>\n",
       "    </tr>\n",
       "    <tr>\n",
       "      <th>CIN</th>\n",
       "      <td>0.438</td>\n",
       "      <td>290</td>\n",
       "    </tr>\n",
       "    <tr>\n",
       "      <th>CLE</th>\n",
       "      <td>0.000</td>\n",
       "      <td>234</td>\n",
       "    </tr>\n",
       "    <tr>\n",
       "      <th>DAL</th>\n",
       "      <td>0.563</td>\n",
       "      <td>354</td>\n",
       "    </tr>\n",
       "    <tr>\n",
       "      <th>DEN</th>\n",
       "      <td>0.313</td>\n",
       "      <td>289</td>\n",
       "    </tr>\n",
       "    <tr>\n",
       "      <th>DET</th>\n",
       "      <td>0.563</td>\n",
       "      <td>410</td>\n",
       "    </tr>\n",
       "    <tr>\n",
       "      <th>GB</th>\n",
       "      <td>0.438</td>\n",
       "      <td>320</td>\n",
       "    </tr>\n",
       "    <tr>\n",
       "      <th>HOU</th>\n",
       "      <td>0.250</td>\n",
       "      <td>338</td>\n",
       "    </tr>\n",
       "    <tr>\n",
       "      <th>IND</th>\n",
       "      <td>0.250</td>\n",
       "      <td>263</td>\n",
       "    </tr>\n",
       "    <tr>\n",
       "      <th>JAX</th>\n",
       "      <td>0.625</td>\n",
       "      <td>417</td>\n",
       "    </tr>\n",
       "    <tr>\n",
       "      <th>KC</th>\n",
       "      <td>0.625</td>\n",
       "      <td>415</td>\n",
       "    </tr>\n",
       "    <tr>\n",
       "      <th>LA</th>\n",
       "      <td>0.688</td>\n",
       "      <td>478</td>\n",
       "    </tr>\n",
       "    <tr>\n",
       "      <th>LAC</th>\n",
       "      <td>0.563</td>\n",
       "      <td>355</td>\n",
       "    </tr>\n",
       "    <tr>\n",
       "      <th>MIA</th>\n",
       "      <td>0.375</td>\n",
       "      <td>281</td>\n",
       "    </tr>\n",
       "    <tr>\n",
       "      <th>MIN</th>\n",
       "      <td>0.813</td>\n",
       "      <td>382</td>\n",
       "    </tr>\n",
       "    <tr>\n",
       "      <th>NE</th>\n",
       "      <td>0.813</td>\n",
       "      <td>458</td>\n",
       "    </tr>\n",
       "    <tr>\n",
       "      <th>NO</th>\n",
       "      <td>0.688</td>\n",
       "      <td>448</td>\n",
       "    </tr>\n",
       "    <tr>\n",
       "      <th>NYG</th>\n",
       "      <td>0.188</td>\n",
       "      <td>246</td>\n",
       "    </tr>\n",
       "    <tr>\n",
       "      <th>NYJ</th>\n",
       "      <td>0.313</td>\n",
       "      <td>298</td>\n",
       "    </tr>\n",
       "    <tr>\n",
       "      <th>OAK</th>\n",
       "      <td>0.563</td>\n",
       "      <td>355</td>\n",
       "    </tr>\n",
       "    <tr>\n",
       "      <th>PHI</th>\n",
       "      <td>0.813</td>\n",
       "      <td>457</td>\n",
       "    </tr>\n",
       "    <tr>\n",
       "      <th>PIT</th>\n",
       "      <td>0.813</td>\n",
       "      <td>406</td>\n",
       "    </tr>\n",
       "    <tr>\n",
       "      <th>SEA</th>\n",
       "      <td>0.563</td>\n",
       "      <td>366</td>\n",
       "    </tr>\n",
       "    <tr>\n",
       "      <th>SF</th>\n",
       "      <td>0.375</td>\n",
       "      <td>331</td>\n",
       "    </tr>\n",
       "    <tr>\n",
       "      <th>TB</th>\n",
       "      <td>0.313</td>\n",
       "      <td>335</td>\n",
       "    </tr>\n",
       "    <tr>\n",
       "      <th>TEN</th>\n",
       "      <td>0.563</td>\n",
       "      <td>334</td>\n",
       "    </tr>\n",
       "    <tr>\n",
       "      <th>WAS</th>\n",
       "      <td>0.438</td>\n",
       "      <td>342</td>\n",
       "    </tr>\n",
       "  </tbody>\n",
       "</table>\n",
       "</div>"
      ],
      "text/plain": [
       "     Winning_Percentage  Points_Scored\n",
       "ARI               0.500            295\n",
       "ATL               0.625            353\n",
       "BAL               0.563            395\n",
       "BUF               0.563            302\n",
       "CAR               0.688            363\n",
       "CHI               0.313            264\n",
       "CIN               0.438            290\n",
       "CLE               0.000            234\n",
       "DAL               0.563            354\n",
       "DEN               0.313            289\n",
       "DET               0.563            410\n",
       "GB                0.438            320\n",
       "HOU               0.250            338\n",
       "IND               0.250            263\n",
       "JAX               0.625            417\n",
       "KC                0.625            415\n",
       "LA                0.688            478\n",
       "LAC               0.563            355\n",
       "MIA               0.375            281\n",
       "MIN               0.813            382\n",
       "NE                0.813            458\n",
       "NO                0.688            448\n",
       "NYG               0.188            246\n",
       "NYJ               0.313            298\n",
       "OAK               0.563            355\n",
       "PHI               0.813            457\n",
       "PIT               0.813            406\n",
       "SEA               0.563            366\n",
       "SF                0.375            331\n",
       "TB                0.313            335\n",
       "TEN               0.563            334\n",
       "WAS               0.438            342"
      ]
     },
     "execution_count": 111,
     "metadata": {},
     "output_type": "execute_result"
    }
   ],
   "source": [
    "teams_list = sorted(list(df['posteam'].unique()))\n",
    "teams_list\n",
    "\n",
    "teams = {'ARI': [  .500, 295], \n",
    "         'ATL': [  .625, 353], \n",
    "         'BAL': [  .563, 395], \n",
    "         'BUF': [  .563, 302], \n",
    "         'CAR': [  .688, 363], \n",
    "         'CHI': [  .313, 264], \n",
    "         'CIN': [  .438, 290], \n",
    "         'CLE': [  .000, 234], \n",
    "         'DAL': [  .563, 354], \n",
    "         'DEN': [  .313, 289], \n",
    "         'DET': [  .563, 410], \n",
    "         'GB' : [  .438, 320], \n",
    "         'HOU': [  .250, 338], \n",
    "         'IND': [  .250, 263], \n",
    "         'JAX': [  .625, 417], \n",
    "         'KC' : [  .625, 415], \n",
    "         'LA' : [  .688, 478], \n",
    "         'LAC': [  .563, 355], \n",
    "         'MIA': [  .375, 281], \n",
    "         'MIN': [  .813, 382], \n",
    "         'NE' : [  .813, 458], \n",
    "         'NO' : [  .688, 448], \n",
    "         'NYG': [  .188, 246], \n",
    "         'NYJ': [  .313, 298], \n",
    "         'OAK': [  .563, 355], \n",
    "         'PHI': [  .813, 457], \n",
    "         'PIT': [  .813, 406], \n",
    "         'SEA': [  .563, 366], \n",
    "         'SF' : [  .375, 331], \n",
    "         'TB' : [  .313, 335], \n",
    "         'TEN': [  .563, 334], \n",
    "         'WAS': [  .438, 342], \n",
    "        }     \n",
    "\n",
    "allteams = pd.DataFrame.from_dict(teams,orient='index', columns =['Winning_Percentage','Points_Scored'])\n",
    "allteams"
   ]
  },
  {
   "cell_type": "code",
   "execution_count": 3,
   "id": "c1d395a3",
   "metadata": {},
   "outputs": [],
   "source": [
    "df = pd.read_csv('NFLplays2017final.csv')"
   ]
  },
  {
   "cell_type": "code",
   "execution_count": 18,
   "id": "d338bec6",
   "metadata": {},
   "outputs": [],
   "source": [
    "featcols = ['totyardstogo', 'FGrange', 'down', 'distance',         \n",
    "        'half_secs_remain', 'game_secs_remain', 'second_half',     \n",
    "        'shotgun', 'points_ahead', 'firstdown','seconddown',        \n",
    "        'thirddown','fourthdown', 'thirdandlong','fourthandlong']  \n",
    "\n",
    "belichick =  (df['shotgun'] == df['PASS']).astype(int))\n",
    "df[belichick].sum()/df.count()"
   ]
  },
  {
   "cell_type": "code",
   "execution_count": 97,
   "id": "7f7ff1db",
   "metadata": {},
   "outputs": [
    {
     "data": {
      "text/plain": [
       "0.7413504904279812"
      ]
     },
     "execution_count": 97,
     "metadata": {},
     "output_type": "execute_result"
    }
   ],
   "source": [
    "belichick =  (df['shotgun'] == df['PASS'])\n",
    "df[belichick].count()[0]/df.count()[0]"
   ]
  },
  {
   "cell_type": "code",
   "execution_count": 99,
   "id": "1c0e440f",
   "metadata": {},
   "outputs": [
    {
     "data": {
      "text/plain": [
       "0.7413504904279812"
      ]
     },
     "execution_count": 99,
     "metadata": {},
     "output_type": "execute_result"
    }
   ],
   "source": [
    "globalbelichick = df[belichick].count()[0]/df.count()[0]\n",
    "globalbelichick"
   ]
  },
  {
   "cell_type": "code",
   "execution_count": 125,
   "id": "51128848",
   "metadata": {},
   "outputs": [],
   "source": [
    "for tm in teams_list:\n",
    "\n",
    "    teamdf = df[df['posteam'] == tm]\n",
    "    \n",
    "    trailing = (teamdf['points_ahead'] < 0)\n",
    "    allteams.loc[tm, 'Trailing_Percentage'] = teamdf[trailing].count()[0]/teamdf.count()[0]\n",
    "    \n",
    "    belichick =  (teamdf['shotgun'] == teamdf['PASS'])\n",
    "    allteams.loc[tm,'belichick'] = teamdf[belichick].count()[0]/teamdf.count()[0]\n",
    "    allteams.loc[tm,'Excess_Predictability'] =  100*(allteams.loc[tm,'belichick']- globalbelichick)\n",
    "    allteams.loc[tm,'Predictability'] =  (allteams.loc[tm,'belichick'])\n",
    "\n",
    "    \n",
    "    shotgunpct =  (teamdf['shotgun'] == 1)\n",
    "    allteams.loc[tm,'Shotgun_Percentage'] = teamdf[shotgunpct].count()[0]/teamdf.count()[0]\n",
    "\n",
    "allteams = allteams.sort_values('Predictability')"
   ]
  },
  {
   "cell_type": "code",
   "execution_count": 121,
   "id": "a8871348",
   "metadata": {},
   "outputs": [
    {
     "data": {
      "image/png": "[encoded data removed]",
      "text/plain": [
       "<Figure size 1080x720 with 1 Axes>"
      ]
     },
     "metadata": {
      "needs_background": "light"
     },
     "output_type": "display_data"
    }
   ],
   "source": [
    "allteams = allteams.sort_values('Predictability')\n",
    "\n",
    "plt.figure(figsize=(15, 10))\n",
    "plt.bar(x=allteams.index, height=allteams['Predictability'])\n",
    "plt.xticks(rotation=90);\n",
    "plt.ylim([0.6,0.85])\n",
    "plt.ylabel(\"Predictability (%)\");\n",
    "plt.xlabel(\"Teams\");\n",
    "\n",
    "plt.title(\"2017 NFL Season\");\n",
    "# plt.savefig('fig9',bbox_inches=\"tight\")\n"
   ]
  },
  {
   "cell_type": "code",
   "execution_count": 126,
   "id": "4b660793",
   "metadata": {},
   "outputs": [
    {
     "data": {
      "text/plain": [
       "Index(['Winning_Percentage', 'Points_Scored', 'Trailing_Percentage',\n",
       "       'belichick', 'Predictability_Percentage', 'Shotgun_Percentage',\n",
       "       'Predictability', 'Excess_Predictability'],\n",
       "      dtype='object')"
      ]
     },
     "execution_count": 126,
     "metadata": {},
     "output_type": "execute_result"
    }
   ],
   "source": [
    "allteams.columns"
   ]
  },
  {
   "cell_type": "code",
   "execution_count": 127,
   "id": "4c1d4eda",
   "metadata": {},
   "outputs": [
    {
     "data": {
      "text/plain": [
       "<AxesSubplot:xlabel='Shotgun_Percentage', ylabel='Predictability_Percentage'>"
      ]
     },
     "execution_count": 127,
     "metadata": {},
     "output_type": "execute_result"
    },
    {
     "data": {
      "text/plain": [
       "<Figure size 432x288 with 0 Axes>"
      ]
     },
     "metadata": {},
     "output_type": "display_data"
    },
    {
     "data": {
      "image/png": "[encoded data removed]",
      "text/plain": [
       "<Figure size 432x288 with 1 Axes>"
      ]
     },
     "metadata": {
      "needs_background": "light"
     },
     "output_type": "display_data"
    },
    {
     "data": {
      "text/plain": [
       "<Figure size 432x288 with 0 Axes>"
      ]
     },
     "metadata": {},
     "output_type": "display_data"
    },
    {
     "data": {
      "image/png": "[encoded data removed]",
      "text/plain": [
       "<Figure size 432x288 with 1 Axes>"
      ]
     },
     "metadata": {
      "needs_background": "light"
     },
     "output_type": "display_data"
    },
    {
     "data": {
      "text/plain": [
       "<Figure size 432x288 with 0 Axes>"
      ]
     },
     "metadata": {},
     "output_type": "display_data"
    },
    {
     "data": {
      "image/png": "[encoded data removed]",
      "text/plain": [
       "<Figure size 432x288 with 1 Axes>"
      ]
     },
     "metadata": {
      "needs_background": "light"
     },
     "output_type": "display_data"
    },
    {
     "data": {
      "text/plain": [
       "<Figure size 432x288 with 0 Axes>"
      ]
     },
     "metadata": {},
     "output_type": "display_data"
    },
    {
     "data": {
      "image/png": "[encoded data removed]",
      "text/plain": [
       "<Figure size 432x288 with 1 Axes>"
      ]
     },
     "metadata": {
      "needs_background": "light"
     },
     "output_type": "display_data"
    }
   ],
   "source": [
    "plt.figure()\n",
    "allteams.plot.scatter(x='Winning_Percentage', y='Predictability_Percentage')\n",
    "\n",
    "plt.figure()\n",
    "allteams.plot.scatter(x='Trailing_Percentage', y='Predictability_Percentage')\n",
    "\n",
    "plt.figure()\n",
    "allteams.plot.scatter(x='Points_Scored', y='Predictability_Percentage')\n",
    "\n",
    "plt.figure()\n",
    "allteams.plot.scatter(x='Shotgun_Percentage', y='Predictability_Percentage')\n",
    "\n",
    "\n",
    "# \tWinning_Pct\tPoints_Scored\ttrail\tbelichick\tshotgunpct"
   ]
  },
  {
   "cell_type": "code",
   "execution_count": 73,
   "id": "a43a3552",
   "metadata": {},
   "outputs": [
    {
     "data": {
      "text/plain": [
       "'BAL'"
      ]
     },
     "execution_count": 73,
     "metadata": {},
     "output_type": "execute_result"
    }
   ],
   "source": [
    "teams_list[2]"
   ]
  },
  {
   "cell_type": "code",
   "execution_count": null,
   "id": "9c5f2982",
   "metadata": {},
   "outputs": [],
   "source": [
    "print(\"Baseline accuracy:  \",  19153/(19153+12554))\n",
    "print(\"Train accuracy:  \", dectree.score(X_tr, y_tr))\n",
    "print(\"Val accuracy:  \", dectree.score(X_val, y_val))\n",
    "\n",
    "\n",
    "print(\"Train confusion matrix: \\n\\n\", confusion_matrix(y_tr, dectree.predict(X_tr)),'\\n')\n",
    "print(\"Test confusion matrix: \\n\\n\", confusion_matrix(y_val, dectree.predict(X_val),))\n",
    "\n",
    "plt.figure(figsize=(15, 10))\n",
    "train_confusion = confusion_matrix(y_tr, dectree.predict(X_tr), normalize='all')\n",
    "sns.heatmap(train_confusion, cmap=plt.cm.Blues, annot=True, square=True,\n",
    "           xticklabels=['Run', 'Pass'],\n",
    "           yticklabels=['Run', 'Pass'])\n",
    "\n",
    "plt.xlabel('Predicted')\n",
    "plt.ylabel('Actual')\n",
    "plt.title('Decision Tree confusion matrix');\n",
    "\n",
    "from sklearn.metrics import classification_report\n",
    "print(classification_report(y_val, dectree.predict(X_val), target_names=['Run', 'Pass']))"
   ]
  },
  {
   "cell_type": "code",
   "execution_count": null,
   "id": "10ca330c",
   "metadata": {},
   "outputs": [],
   "source": [
    "dectree = DecisionTreeClassifier(max_depth = 4, random_state=42, criterion = \"gini\")\n",
    "scores = cross_val_score(dectree, X_tr, y_tr, cv=5, scoring='accuracy')\n",
    "print(scores.mean())\n",
    "\n",
    "dectree.fit(X_tr, y_tr)\n",
    "\n",
    "print(\"Baseline accuracy:  \",  19153/(19153+12554))\n",
    "print(\"Train accuracy:  \", dectree.score(X_tr, y_tr))\n",
    "print(\"Val accuracy:  \", dectree.score(X_val, y_val))\n",
    "\n",
    "\n",
    "print(\"Train confusion matrix: \\n\\n\", confusion_matrix(y_tr, dectree.predict(X_tr)),'\\n')\n",
    "print(\"Test confusion matrix: \\n\\n\", confusion_matrix(y_val, dectree.predict(X_val),))\n",
    "\n",
    "plt.figure(figsize=(15, 10))\n",
    "train_confusion = confusion_matrix(y_tr, dectree.predict(X_tr), normalize='all')\n",
    "sns.heatmap(train_confusion, cmap=plt.cm.Blues, annot=True, square=True,\n",
    "           xticklabels=['Run', 'Pass'],\n",
    "           yticklabels=['Run', 'Pass'])\n",
    "\n",
    "plt.xlabel('Predicted')\n",
    "plt.ylabel('Actual')\n",
    "plt.title('Decision Tree confusion matrix');\n",
    "\n",
    "from sklearn.metrics import classification_report\n",
    "print(classification_report(y_val, dectree.predict(X_val), target_names=['Run', 'Pass']))"
   ]
  }
 ],
 "metadata": {
  "kernelspec": {
   "display_name": "Python 3",
   "language": "python",
   "name": "python3"
  },
  "language_info": {
   "codemirror_mode": {
    "name": "ipython",
    "version": 3
   },
   "file_extension": ".py",
   "mimetype": "text/x-python",
   "name": "python",
   "nbconvert_exporter": "python",
   "pygments_lexer": "ipython3",
   "version": "3.8.5"
  }
 },
 "nbformat": 4,
 "nbformat_minor": 5
}
